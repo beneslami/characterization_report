{
 "cells": [
  {
   "cell_type": "markdown",
   "id": "1e701070-a447-4acc-9907-15de4d0d07e6",
   "metadata": {},
   "source": [
    "# architectural analysis\n",
    "This section is about reproducing figures and plots that reflect architectural behavior of the system in different scenarios."
   ]
  },
  {
   "cell_type": "code",
   "execution_count": 126,
   "id": "944d790b-2a0b-4d4e-84c9-64647d09f13a",
   "metadata": {},
   "outputs": [],
   "source": [
    "import matplotlib.pyplot as plt\n",
    "import numpy as np\n",
    "import pandas as pd\n",
    "import os"
   ]
  },
  {
   "cell_type": "code",
   "execution_count": 127,
   "id": "36d5c8a6-ec2a-422a-9ec8-9e99fb23ec27",
   "metadata": {},
   "outputs": [
    {
     "data": {
      "text/html": [
       "<div>\n",
       "<style scoped>\n",
       "    .dataframe tbody tr th:only-of-type {\n",
       "        vertical-align: middle;\n",
       "    }\n",
       "\n",
       "    .dataframe tbody tr th {\n",
       "        vertical-align: top;\n",
       "    }\n",
       "\n",
       "    .dataframe thead th {\n",
       "        text-align: right;\n",
       "    }\n",
       "</style>\n",
       "<table border=\"1\" class=\"dataframe\">\n",
       "  <thead>\n",
       "    <tr style=\"text-align: right;\">\n",
       "      <th></th>\n",
       "      <th>suite</th>\n",
       "      <th>benchmark</th>\n",
       "      <th>chiplet</th>\n",
       "      <th>bandwidth</th>\n",
       "      <th>IPC</th>\n",
       "      <th>plp</th>\n",
       "      <th>L2 stall</th>\n",
       "      <th>local NoC stall</th>\n",
       "      <th>remote</th>\n",
       "      <th>local</th>\n",
       "      <th>...</th>\n",
       "      <th>L2 miss</th>\n",
       "      <th>L2 pending hit</th>\n",
       "      <th>L2 reservation fail</th>\n",
       "      <th>L2 data port util</th>\n",
       "      <th>mflatency</th>\n",
       "      <th>icnt2mem</th>\n",
       "      <th>icnt2sh</th>\n",
       "      <th>p latency</th>\n",
       "      <th>n latency</th>\n",
       "      <th>flit rate</th>\n",
       "    </tr>\n",
       "  </thead>\n",
       "  <tbody>\n",
       "    <tr>\n",
       "      <th>0</th>\n",
       "      <td>SDK</td>\n",
       "      <td>conjugate gradient</td>\n",
       "      <td>4</td>\n",
       "      <td>160GB/s</td>\n",
       "      <td>523.8353</td>\n",
       "      <td>4.0278</td>\n",
       "      <td>0.0</td>\n",
       "      <td>0.0</td>\n",
       "      <td>340518.0</td>\n",
       "      <td>1439749.0</td>\n",
       "      <td>...</td>\n",
       "      <td>0.8670</td>\n",
       "      <td>6884.0</td>\n",
       "      <td>8011507.0</td>\n",
       "      <td>0.002</td>\n",
       "      <td>9762.0</td>\n",
       "      <td>7695.0</td>\n",
       "      <td>735.0</td>\n",
       "      <td>NaN</td>\n",
       "      <td>NaN</td>\n",
       "      <td>0.277706</td>\n",
       "    </tr>\n",
       "    <tr>\n",
       "      <th>1</th>\n",
       "      <td>SDK</td>\n",
       "      <td>conjugate gradient</td>\n",
       "      <td>4</td>\n",
       "      <td>300GB/s</td>\n",
       "      <td>904.7786</td>\n",
       "      <td>6.9569</td>\n",
       "      <td>0.0</td>\n",
       "      <td>0.0</td>\n",
       "      <td>340519.0</td>\n",
       "      <td>1439771.0</td>\n",
       "      <td>...</td>\n",
       "      <td>0.8649</td>\n",
       "      <td>7654.0</td>\n",
       "      <td>8910922.0</td>\n",
       "      <td>0.004</td>\n",
       "      <td>6447.0</td>\n",
       "      <td>3753.0</td>\n",
       "      <td>596.0</td>\n",
       "      <td>NaN</td>\n",
       "      <td>NaN</td>\n",
       "      <td>0.253711</td>\n",
       "    </tr>\n",
       "    <tr>\n",
       "      <th>2</th>\n",
       "      <td>SDK</td>\n",
       "      <td>conjugate gradient</td>\n",
       "      <td>4</td>\n",
       "      <td>600GB/s</td>\n",
       "      <td>1411.5385</td>\n",
       "      <td>10.8556</td>\n",
       "      <td>0.0</td>\n",
       "      <td>0.0</td>\n",
       "      <td>340501.0</td>\n",
       "      <td>1440145.0</td>\n",
       "      <td>...</td>\n",
       "      <td>0.8660</td>\n",
       "      <td>8859.0</td>\n",
       "      <td>9021579.0</td>\n",
       "      <td>0.007</td>\n",
       "      <td>4258.0</td>\n",
       "      <td>1607.0</td>\n",
       "      <td>196.0</td>\n",
       "      <td>NaN</td>\n",
       "      <td>NaN</td>\n",
       "      <td>0.194596</td>\n",
       "    </tr>\n",
       "    <tr>\n",
       "      <th>3</th>\n",
       "      <td>SDK</td>\n",
       "      <td>conjugate gradient</td>\n",
       "      <td>4</td>\n",
       "      <td>900GB/s</td>\n",
       "      <td>1775.1777</td>\n",
       "      <td>13.6570</td>\n",
       "      <td>0.0</td>\n",
       "      <td>0.0</td>\n",
       "      <td>340369.0</td>\n",
       "      <td>1440894.0</td>\n",
       "      <td>...</td>\n",
       "      <td>0.8692</td>\n",
       "      <td>10074.0</td>\n",
       "      <td>9362932.0</td>\n",
       "      <td>0.008</td>\n",
       "      <td>3783.0</td>\n",
       "      <td>1035.0</td>\n",
       "      <td>79.0</td>\n",
       "      <td>NaN</td>\n",
       "      <td>NaN</td>\n",
       "      <td>0.161817</td>\n",
       "    </tr>\n",
       "    <tr>\n",
       "      <th>4</th>\n",
       "      <td>SDK</td>\n",
       "      <td>conjugate gradient</td>\n",
       "      <td>4</td>\n",
       "      <td>1200GB/s</td>\n",
       "      <td>1974.4904</td>\n",
       "      <td>15.1833</td>\n",
       "      <td>0.0</td>\n",
       "      <td>0.0</td>\n",
       "      <td>340369.0</td>\n",
       "      <td>1440067.0</td>\n",
       "      <td>...</td>\n",
       "      <td>0.8688</td>\n",
       "      <td>10631.0</td>\n",
       "      <td>9588929.0</td>\n",
       "      <td>0.009</td>\n",
       "      <td>3466.0</td>\n",
       "      <td>716.0</td>\n",
       "      <td>46.0</td>\n",
       "      <td>NaN</td>\n",
       "      <td>NaN</td>\n",
       "      <td>0.134846</td>\n",
       "    </tr>\n",
       "  </tbody>\n",
       "</table>\n",
       "<p>5 rows × 26 columns</p>\n",
       "</div>"
      ],
      "text/plain": [
       "  suite           benchmark  chiplet bandwidth        IPC      plp  L2 stall  \\\n",
       "0   SDK  conjugate gradient        4   160GB/s   523.8353   4.0278       0.0   \n",
       "1   SDK  conjugate gradient        4   300GB/s   904.7786   6.9569       0.0   \n",
       "2   SDK  conjugate gradient        4   600GB/s  1411.5385  10.8556       0.0   \n",
       "3   SDK  conjugate gradient        4   900GB/s  1775.1777  13.6570       0.0   \n",
       "4   SDK  conjugate gradient        4  1200GB/s  1974.4904  15.1833       0.0   \n",
       "\n",
       "   local NoC stall    remote      local  ...  L2 miss L2 pending hit  \\\n",
       "0              0.0  340518.0  1439749.0  ...   0.8670         6884.0   \n",
       "1              0.0  340519.0  1439771.0  ...   0.8649         7654.0   \n",
       "2              0.0  340501.0  1440145.0  ...   0.8660         8859.0   \n",
       "3              0.0  340369.0  1440894.0  ...   0.8692        10074.0   \n",
       "4              0.0  340369.0  1440067.0  ...   0.8688        10631.0   \n",
       "\n",
       "   L2 reservation fail  L2 data port util  mflatency  icnt2mem  icnt2sh  \\\n",
       "0            8011507.0              0.002     9762.0    7695.0    735.0   \n",
       "1            8910922.0              0.004     6447.0    3753.0    596.0   \n",
       "2            9021579.0              0.007     4258.0    1607.0    196.0   \n",
       "3            9362932.0              0.008     3783.0    1035.0     79.0   \n",
       "4            9588929.0              0.009     3466.0     716.0     46.0   \n",
       "\n",
       "   p latency  n latency  flit rate  \n",
       "0        NaN        NaN   0.277706  \n",
       "1        NaN        NaN   0.253711  \n",
       "2        NaN        NaN   0.194596  \n",
       "3        NaN        NaN   0.161817  \n",
       "4        NaN        NaN   0.134846  \n",
       "\n",
       "[5 rows x 26 columns]"
      ]
     },
     "execution_count": 127,
     "metadata": {},
     "output_type": "execute_result"
    }
   ],
   "source": [
    "df = pd.read_csv(\"arch_param.csv\")\n",
    "df.head()"
   ]
  },
  {
   "cell_type": "markdown",
   "id": "3eb217ff-f4ce-42dd-8044-0dbfd31ea8c6",
   "metadata": {
    "jp-MarkdownHeadingCollapsed": true
   },
   "source": [
    "## Analysis of IPC and LLC effective bandwidth"
   ]
  },
  {
   "cell_type": "code",
   "execution_count": 27,
   "id": "9f6642e8-8665-40b8-807d-f58cd1b9a704",
   "metadata": {},
   "outputs": [],
   "source": [
    "def harmonic_mean(series):\n",
    "   return len(series) / sum(1/x for x in series)"
   ]
  },
  {
   "cell_type": "code",
   "execution_count": 55,
   "id": "2d2ef041-7853-4202-ba29-5650dda18b3b",
   "metadata": {},
   "outputs": [
    {
     "data": {
      "image/png": "[encoded data removed]",
      "text/plain": [
       "<Figure size 1500x600 with 1 Axes>"
      ]
     },
     "metadata": {},
     "output_type": "display_data"
    },
    {
     "data": {
      "image/png": "[encoded data removed]",
      "text/plain": [
       "<Figure size 1500x600 with 1 Axes>"
      ]
     },
     "metadata": {},
     "output_type": "display_data"
    }
   ],
   "source": [
    "clean_df = df.dropna(subset=['IPC', 'plp'])\n",
    "chiplets = [4, 8, 16]\n",
    "bandwidths = ['160GB/s', '300GB/s', '600GB/s', '900GB/s', '1200GB/s', '1400GB/s', '1800GB/s', '2048GB/s']\n",
    "\n",
    "ipc_means = []\n",
    "plp_means = []\n",
    "\n",
    "# Calculate means for each combination\n",
    "for chiplet in chiplets:\n",
    "    for bw in bandwidths:\n",
    "        mask = (clean_df['chiplet'] == chiplet) & (clean_df['bandwidth'] == bw)\n",
    "        ipc_mean = harmonic_mean(clean_df[mask]['IPC'])\n",
    "        plp_mean = clean_df[mask]['plp'].mean()\n",
    "        ipc_means.append({'chiplet': chiplet, 'bandwidth': bw, 'IPC': ipc_mean})\n",
    "        plp_means.append({'chiplet': chiplet, 'bandwidth': bw, 'plp': plp_mean})\n",
    "\n",
    "# Convert to DataFrames\n",
    "avg_ipc = pd.DataFrame(ipc_means)\n",
    "avg_plp = pd.DataFrame(plp_means)\n",
    "\n",
    "def plot_metric(data, metric_name, mean_type):\n",
    "   plt.figure(figsize=(15, 6))\n",
    "   \n",
    "   # Set up positions for grouped bars\n",
    "   x = np.arange(len(chiplets))\n",
    "   width = 0.8 / len(bandwidths)\n",
    "   \n",
    "   # Create blue color spectrum\n",
    "   blues = plt.cm.Blues(np.linspace(0.3, 1, len(bandwidths)))\n",
    "   \n",
    "   # Plot bars for each bandwidth\n",
    "   for i, (bw, color) in enumerate(zip(bandwidths, blues)):\n",
    "       values = data[data['bandwidth'] == bw][metric_name]\n",
    "       position = x + (i - len(bandwidths)/2 + 0.5) * width\n",
    "       plt.bar(position, values, width, label=bw, color=color)\n",
    "\n",
    "   if metric_name == 'IPC':\n",
    "       metric = 'IPC'\n",
    "   elif metric_name == 'plp':\n",
    "       metric = 'LLC effective access'\n",
    "   ylabel = \"absolute average \" + metric\n",
    "   plt.ylabel(ylabel)\n",
    "   \n",
    "   # Change x-ticks to include \"chiplet\"\n",
    "   plt.xticks(x, [f'{c}chiplet' for c in chiplets], fontsize=20)\n",
    "   \n",
    "   # Move legend inside the plot\n",
    "   plt.legend(loc='upper left', bbox_to_anchor=(0.02, 0.98))\n",
    "   \n",
    "   plt.tight_layout()\n",
    "   plt.savefig(\"results/average_absolute_\" + metric_name + \"_barchart.png\")\n",
    "\n",
    "# Create both plots\n",
    "plot_metric(avg_ipc, 'IPC', 'Harmonic')\n",
    "plot_metric(avg_plp, 'plp', 'Arithmetic')"
   ]
  },
  {
   "cell_type": "code",
   "execution_count": null,
   "id": "a20890d1-3900-4f1b-8122-eed8d2e8b6dc",
   "metadata": {},
   "outputs": [],
   "source": []
  },
  {
   "cell_type": "code",
   "execution_count": 57,
   "id": "df1a34e9-8970-44fe-9f32-ce90a6c78d14",
   "metadata": {},
   "outputs": [
    {
     "data": {
      "image/png": "[encoded data removed]",
      "text/plain": [
       "<Figure size 1500x600 with 1 Axes>"
      ]
     },
     "metadata": {},
     "output_type": "display_data"
    },
    {
     "data": {
      "image/png": "[encoded data removed]",
      "text/plain": [
       "<Figure size 1500x600 with 1 Axes>"
      ]
     },
     "metadata": {},
     "output_type": "display_data"
    }
   ],
   "source": [
    "# Get baseline values from the previously calculated means\n",
    "ipc_baseline = avg_ipc[(avg_ipc['chiplet'] == 4) & (avg_ipc['bandwidth'] == '160GB/s')]['IPC'].iloc[0]\n",
    "plp_baseline = avg_plp[(avg_plp['chiplet'] == 4) & (avg_plp['bandwidth'] == '160GB/s')]['plp'].iloc[0]\n",
    "\n",
    "# Create relative DataFrames\n",
    "rel_avg_ipc = avg_ipc.copy()\n",
    "rel_avg_plp = avg_plp.copy()\n",
    "\n",
    "# Calculate relative values\n",
    "rel_avg_ipc['IPC'] = rel_avg_ipc['IPC'] / ipc_baseline\n",
    "rel_avg_plp['plp'] = rel_avg_plp['plp'] / plp_baseline\n",
    "\n",
    "def plot_relative_metric(data, metric_name, mean_type):\n",
    "    plt.figure(figsize=(15, 6))\n",
    "    \n",
    "    x = np.arange(len(chiplets))\n",
    "    width = 0.8 / len(bandwidths)\n",
    "    blues = plt.cm.Blues(np.linspace(0.3, 1, len(bandwidths)))\n",
    "    \n",
    "    for i, (bw, color) in enumerate(zip(bandwidths, blues)):\n",
    "        values = data[data['bandwidth'] == bw][metric_name]\n",
    "        position = x + (i - len(bandwidths)/2 + 0.5) * width\n",
    "        plt.bar(position, values, width, label=bw, color=color)\n",
    "\n",
    "    if metric_name == 'IPC':\n",
    "        metric = 'IPC'\n",
    "    elif metric_name == 'plp':\n",
    "        metric = 'LLC effective BW'\n",
    "    ylabel = \"relative \" + metric\n",
    "    plt.ylabel(ylabel)\n",
    "    plt.xticks(x, [f'{c}chiplet' for c in chiplets], fontsize=20)\n",
    "    plt.legend(loc='upper left', bbox_to_anchor=(0.02, 0.98))\n",
    "    #plt.axhline(y=1, color='red', linestyle='--', alpha=0.5)\n",
    "    plt.tight_layout()\n",
    "    plt.savefig(\"results/relative_\" + metric_name + \"_barchart.png\")\n",
    "\n",
    "# Create both relative plots\n",
    "plot_relative_metric(rel_avg_ipc, 'IPC', 'Harmonic')\n",
    "plot_relative_metric(rel_avg_plp, 'plp', 'Arithmetic')"
   ]
  },
  {
   "cell_type": "markdown",
   "id": "e038759a-fa5e-4349-a602-6e2a3e39d319",
   "metadata": {
    "jp-MarkdownHeadingCollapsed": true
   },
   "source": [
    "## Analysis of GPU throughput"
   ]
  },
  {
   "cell_type": "code",
   "execution_count": 58,
   "id": "7a5f888d-d31c-4f7a-9cb4-d974569688ef",
   "metadata": {},
   "outputs": [],
   "source": [
    "def harmonic_mean(series):\n",
    "   return len(series) / sum(1/x for x in series)"
   ]
  },
  {
   "cell_type": "code",
   "execution_count": 65,
   "id": "3e32c052-c498-4a1c-95fe-694e30c0ccdf",
   "metadata": {},
   "outputs": [
    {
     "data": {
      "image/png": "[encoded data removed]",
      "text/plain": [
       "<Figure size 1500x600 with 1 Axes>"
      ]
     },
     "metadata": {},
     "output_type": "display_data"
    }
   ],
   "source": [
    "clean_df = df.dropna(subset=['GPU throughput'])\n",
    "chiplets = [4, 8, 16]\n",
    "bandwidths = ['160GB/s', '300GB/s', '600GB/s', '900GB/s', '1200GB/s', '1400GB/s', '1800GB/s', '2048GB/s']\n",
    "\n",
    "gpu_throughput_means = []\n",
    "\n",
    "# Calculate means for each combination\n",
    "for chiplet in chiplets:\n",
    "    for bw in bandwidths:\n",
    "        mask = (clean_df['chiplet'] == chiplet) & (clean_df['bandwidth'] == bw)\n",
    "        throughput_mean = harmonic_mean(clean_df[mask]['GPU throughput']) * 1.132 # convert bytes per cycle to GB/s\n",
    "        gpu_throughput_means.append({'chiplet': chiplet, 'bandwidth': bw, 'GPU throughput': throughput_mean})\n",
    "\n",
    "# Convert to DataFrames\n",
    "avg_gpu_throughput = pd.DataFrame(gpu_throughput_means)\n",
    "\n",
    "def plot_relative_metric(data, metric_name, mean_type):\n",
    "    plt.figure(figsize=(15, 6))\n",
    "    \n",
    "    x = np.arange(len(chiplets))\n",
    "    width = 0.8 / len(bandwidths)\n",
    "    blues = plt.cm.Blues(np.linspace(0.3, 1, len(bandwidths)))\n",
    "    \n",
    "    for i, (bw, color) in enumerate(zip(bandwidths, blues)):\n",
    "        values = data[data['bandwidth'] == bw][metric_name]\n",
    "        position = x + (i - len(bandwidths)/2 + 0.5) * width\n",
    "        plt.bar(position, values, width, label=bw, color=color)\n",
    "\n",
    "    plt.ylabel(\"throughput (GB/s)\")\n",
    "    plt.xticks(x, [f'{c}chiplet' for c in chiplets], fontsize=20)\n",
    "    plt.legend(loc='upper left', bbox_to_anchor=(0.02, 0.98))\n",
    "    #plt.axhline(y=1, color='red', linestyle='--', alpha=0.5)\n",
    "    plt.tight_layout()\n",
    "    plt.savefig(\"results/absolute_GPU_throughput_barchart.png\")\n",
    "\n",
    "# Create both relative plots\n",
    "plot_relative_metric(avg_gpu_throughput, 'GPU throughput', 'Harmonic')"
   ]
  },
  {
   "cell_type": "code",
   "execution_count": 69,
   "id": "0b424cc3-473f-4b90-8adc-3ed3cb7e9220",
   "metadata": {},
   "outputs": [
    {
     "data": {
      "image/png": "[encoded data removed]",
      "text/plain": [
       "<Figure size 1500x600 with 1 Axes>"
      ]
     },
     "metadata": {},
     "output_type": "display_data"
    }
   ],
   "source": [
    "throughput_baseline = avg_gpu_throughput[(avg_gpu_throughput['chiplet'] == 4) & (avg_gpu_throughput['bandwidth'] == '160GB/s')]['GPU throughput'].iloc[0]\n",
    "\n",
    "# Create relative DataFrames\n",
    "rel_avg_thr = avg_gpu_throughput.copy()\n",
    "\n",
    "# Calculate relative values\n",
    "rel_avg_thr['GPU throughput'] = rel_avg_thr['GPU throughput'] / throughput_baseline\n",
    "\n",
    "def plot_relative_metric(data, metric_name, mean_type):\n",
    "    plt.figure(figsize=(15, 6))\n",
    "    \n",
    "    x = np.arange(len(chiplets))\n",
    "    width = 0.8 / len(bandwidths)\n",
    "    blues = plt.cm.Blues(np.linspace(0.3, 1, len(bandwidths)))\n",
    "    \n",
    "    for i, (bw, color) in enumerate(zip(bandwidths, blues)):\n",
    "        values = data[data['bandwidth'] == bw][metric_name]\n",
    "        position = x + (i - len(bandwidths)/2 + 0.5) * width\n",
    "        plt.bar(position, values, width, label=bw, color=color)\n",
    "\n",
    "    plt.ylabel(\"relative GPU throughput\")\n",
    "    plt.xticks(x, [f'{c}chiplet' for c in chiplets], fontsize=20)\n",
    "    plt.legend(loc='upper left', bbox_to_anchor=(0.02, 0.98))\n",
    "    #plt.axhline(y=1, color='red', linestyle='--', alpha=0.5)\n",
    "    plt.tight_layout()\n",
    "    plt.savefig(\"results/relative_gpu_throughput_barchart.png\")\n",
    "    \n",
    "# Create both relative plots\n",
    "plot_relative_metric(rel_avg_thr, 'GPU throughput', 'Harmonic')"
   ]
  },
  {
   "cell_type": "markdown",
   "id": "ef5ae1de-5cb3-43e2-91f7-f64bed69dad1",
   "metadata": {
    "jp-MarkdownHeadingCollapsed": true
   },
   "source": [
    "## Analysis of Cache port utilization"
   ]
  },
  {
   "cell_type": "code",
   "execution_count": 2,
   "id": "db3121eb-0295-425d-946c-0bbc6dcf6703",
   "metadata": {},
   "outputs": [],
   "source": [
    "def arithmetic_mean(series):\n",
    "   return sum(x for x in series) / len(series)"
   ]
  },
  {
   "cell_type": "code",
   "execution_count": 8,
   "id": "ff612c7a-e0d1-4794-8ab8-626eb917f40b",
   "metadata": {},
   "outputs": [
    {
     "data": {
      "image/png": "[encoded data removed]",
      "text/plain": [
       "<Figure size 1500x600 with 1 Axes>"
      ]
     },
     "metadata": {},
     "output_type": "display_data"
    }
   ],
   "source": [
    "clean_df = df.dropna(subset=['L1 data port util'])\n",
    "chiplets = [4, 8, 16]\n",
    "bandwidths = ['160GB/s', '300GB/s', '600GB/s', '900GB/s', '1200GB/s', '1400GB/s', '1800GB/s', '2048GB/s']\n",
    "\n",
    "gpu_throughput_means = []\n",
    "\n",
    "# Calculate means for each combination\n",
    "for chiplet in chiplets:\n",
    "    for bw in bandwidths:\n",
    "        mask = (clean_df['chiplet'] == chiplet) & (clean_df['bandwidth'] == bw)\n",
    "        throughput_mean = arithmetic_mean(clean_df[mask]['L1 data port util'])\n",
    "        gpu_throughput_means.append({'chiplet': chiplet, 'bandwidth': bw, 'L1 data port util': throughput_mean})\n",
    "\n",
    "# Convert to DataFrames\n",
    "avg_gpu_throughput = pd.DataFrame(gpu_throughput_means)\n",
    "\n",
    "def plot_relative_metric(data, metric_name, mean_type):\n",
    "    plt.figure(figsize=(15, 6))\n",
    "    \n",
    "    x = np.arange(len(chiplets))\n",
    "    width = 0.8 / len(bandwidths)\n",
    "    blues = plt.cm.Blues(np.linspace(0.3, 1, len(bandwidths)))\n",
    "    \n",
    "    for i, (bw, color) in enumerate(zip(bandwidths, blues)):\n",
    "        values = data[data['bandwidth'] == bw][metric_name]\n",
    "        position = x + (i - len(bandwidths)/2 + 0.5) * width\n",
    "        plt.bar(position, values, width, label=bw, color=color)\n",
    "\n",
    "    plt.ylabel(\"L1 data port utilization\")\n",
    "    plt.xticks(x, [f'{c}chiplet' for c in chiplets], fontsize=20)\n",
    "    plt.legend(loc='upper left', bbox_to_anchor=(0.02, 0.98))\n",
    "    #plt.axhline(y=1, color='red', linestyle='--', alpha=0.5)\n",
    "    #plt.tight_layout()\n",
    "    plt.savefig(\"results/L1_dataport_util.png\")\n",
    "\n",
    "# Create both relative plots\n",
    "plot_relative_metric(avg_gpu_throughput, 'L1 data port util', 'arithmetic')"
   ]
  },
  {
   "cell_type": "code",
   "execution_count": 9,
   "id": "dd5a39fd-31c6-4e3c-a377-fc5a660a344a",
   "metadata": {},
   "outputs": [
    {
     "data": {
      "image/png": "[encoded data removed]",
      "text/plain": [
       "<Figure size 1500x600 with 1 Axes>"
      ]
     },
     "metadata": {},
     "output_type": "display_data"
    }
   ],
   "source": [
    "clean_df = df.dropna(subset=['L2 data port util'])\n",
    "chiplets = [4, 8, 16]\n",
    "bandwidths = ['160GB/s', '300GB/s', '600GB/s', '900GB/s', '1200GB/s', '1400GB/s', '1800GB/s', '2048GB/s']\n",
    "\n",
    "gpu_throughput_means = []\n",
    "\n",
    "# Calculate means for each combination\n",
    "for chiplet in chiplets:\n",
    "    for bw in bandwidths:\n",
    "        mask = (clean_df['chiplet'] == chiplet) & (clean_df['bandwidth'] == bw)\n",
    "        throughput_mean = arithmetic_mean(clean_df[mask]['L2 data port util'])\n",
    "        gpu_throughput_means.append({'chiplet': chiplet, 'bandwidth': bw, 'L2 data port util': throughput_mean})\n",
    "\n",
    "# Convert to DataFrames\n",
    "avg_gpu_throughput = pd.DataFrame(gpu_throughput_means)\n",
    "\n",
    "def plot_relative_metric(data, metric_name, mean_type):\n",
    "    plt.figure(figsize=(15, 6))\n",
    "    \n",
    "    x = np.arange(len(chiplets))\n",
    "    width = 0.8 / len(bandwidths)\n",
    "    blues = plt.cm.Blues(np.linspace(0.3, 1, len(bandwidths)))\n",
    "    \n",
    "    for i, (bw, color) in enumerate(zip(bandwidths, blues)):\n",
    "        values = data[data['bandwidth'] == bw][metric_name]\n",
    "        position = x + (i - len(bandwidths)/2 + 0.5) * width\n",
    "        plt.bar(position, values, width, label=bw, color=color)\n",
    "\n",
    "    plt.ylabel(\"LLC data port utilization\")\n",
    "    plt.xticks(x, [f'{c}chiplet' for c in chiplets], fontsize=20)\n",
    "    plt.legend(loc='upper left', bbox_to_anchor=(0.02, 0.98))\n",
    "    #plt.axhline(y=1, color='red', linestyle='--', alpha=0.5)\n",
    "    #plt.tight_layout()\n",
    "    plt.savefig(\"results/LLC_dataport_util.png\")\n",
    "\n",
    "# Create both relative plots\n",
    "plot_relative_metric(avg_gpu_throughput, 'L2 data port util', 'arithmetic')"
   ]
  },
  {
   "cell_type": "code",
   "execution_count": 17,
   "id": "074f8711-6010-4853-9f9b-6e5090006695",
   "metadata": {},
   "outputs": [
    {
     "data": {
      "image/png": "[encoded data removed]",
      "text/plain": [
       "<Figure size 1500x600 with 1 Axes>"
      ]
     },
     "metadata": {},
     "output_type": "display_data"
    }
   ],
   "source": [
    "clean_df = df.dropna(subset=['L2 reservation fail'])\n",
    "chiplets = [4, 8, 16]\n",
    "bandwidths = ['160GB/s', '300GB/s', '600GB/s', '900GB/s', '1200GB/s', '1400GB/s', '1800GB/s', '2048GB/s']\n",
    "\n",
    "gpu_throughput_means = []\n",
    "\n",
    "# Calculate means for each combination\n",
    "for chiplet in chiplets:\n",
    "    for bw in bandwidths:\n",
    "        mask = (clean_df['chiplet'] == chiplet) & (clean_df['bandwidth'] == bw)\n",
    "        throughput_mean = arithmetic_mean(clean_df[mask]['L2 reservation fail'])\n",
    "        gpu_throughput_means.append({'chiplet': chiplet, 'bandwidth': bw, 'L2 reservation fail': throughput_mean})\n",
    "\n",
    "# Convert to DataFrames\n",
    "avg_gpu_throughput = pd.DataFrame(gpu_throughput_means)\n",
    "\n",
    "def plot_relative_metric(data, metric_name, mean_type):\n",
    "    plt.figure(figsize=(15, 6))\n",
    "    \n",
    "    x = np.arange(len(chiplets))\n",
    "    width = 0.8 / len(bandwidths)\n",
    "    blues = plt.cm.Blues(np.linspace(0.3, 1, len(bandwidths)))\n",
    "    \n",
    "    for i, (bw, color) in enumerate(zip(bandwidths, blues)):\n",
    "        values = data[data['bandwidth'] == bw][metric_name]\n",
    "        position = x + (i - len(bandwidths)/2 + 0.5) * width\n",
    "        plt.bar(position, values, width, label=bw, color=color)\n",
    "\n",
    "    plt.ylabel(\"L2 reservation fail\")\n",
    "    plt.xticks(x, [f'{c}chiplet' for c in chiplets], fontsize=20)\n",
    "    plt.legend()\n",
    "    #plt.axhline(y=1, color='red', linestyle='--', alpha=0.5)\n",
    "    #plt.tight_layout()\n",
    "    plt.savefig(\"results/L2_reservation_fail.png\")\n",
    "    #plt.show()\n",
    "# Create both relative plots\n",
    "plot_relative_metric(avg_gpu_throughput, 'L2 reservation fail', 'arithmetic')"
   ]
  },
  {
   "cell_type": "code",
   "execution_count": 27,
   "id": "f1ff6500-bafc-4559-9ac6-9cf8966d6793",
   "metadata": {},
   "outputs": [
    {
     "data": {
      "image/png": "[encoded data removed]",
      "text/plain": [
       "<Figure size 1500x600 with 1 Axes>"
      ]
     },
     "metadata": {},
     "output_type": "display_data"
    }
   ],
   "source": [
    "clean_df = df.dropna(subset=['mflatency'])\n",
    "chiplets = [4, 8, 16]\n",
    "bandwidths = ['160GB/s', '300GB/s', '600GB/s', '900GB/s', '1200GB/s', '1400GB/s', '1800GB/s', '2048GB/s']\n",
    "\n",
    "gpu_throughput_means = []\n",
    "\n",
    "# Calculate means for each combination\n",
    "for chiplet in chiplets:\n",
    "    for bw in bandwidths:\n",
    "        mask = (clean_df['chiplet'] == chiplet) & (clean_df['bandwidth'] == bw)\n",
    "        throughput_mean = arithmetic_mean(clean_df[mask]['mflatency']) * 0.88 / 1000 # convert cycle time to ns\n",
    "        gpu_throughput_means.append({'chiplet': chiplet, 'bandwidth': bw, 'mflatency': throughput_mean})\n",
    "\n",
    "# Convert to DataFrames\n",
    "avg_gpu_throughput = pd.DataFrame(gpu_throughput_means)\n",
    "\n",
    "def plot_relative_metric(data, metric_name, mean_type):\n",
    "    plt.figure(figsize=(15, 6))\n",
    "    \n",
    "    x = np.arange(len(chiplets))\n",
    "    width = 0.8 / len(bandwidths)\n",
    "    blues = plt.cm.Blues(np.linspace(0.3, 1, len(bandwidths)))\n",
    "    \n",
    "    for i, (bw, color) in enumerate(zip(bandwidths, blues)):\n",
    "        values = data[data['bandwidth'] == bw][metric_name]\n",
    "        position = x + (i - len(bandwidths)/2 + 0.5) * width\n",
    "        plt.bar(position, values, width, label=bw, color=color)\n",
    "\n",
    "    plt.ylabel(\"remote access RTT (\\u03bcs)\")\n",
    "    plt.xticks(x, [f'{c}chiplet' for c in chiplets], fontsize=20)\n",
    "    plt.legend()\n",
    "    #plt.axhline(y=1, color='red', linestyle='--', alpha=0.5)\n",
    "    #plt.tight_layout()\n",
    "    plt.savefig(\"results/mf_latency.png\")\n",
    "    #plt.show()\n",
    "# Create both relative plots\n",
    "plot_relative_metric(avg_gpu_throughput, 'mflatency', 'arithmetic')"
   ]
  },
  {
   "cell_type": "markdown",
   "id": "519b4e94-d525-47ae-9dd9-305de322b77a",
   "metadata": {
    "jp-MarkdownHeadingCollapsed": true
   },
   "source": [
    "## Analysis of per benchmark results"
   ]
  },
  {
   "cell_type": "code",
   "execution_count": 140,
   "id": "7974f406-77e2-4d6b-b319-1f3888dad83f",
   "metadata": {},
   "outputs": [
    {
     "name": "stderr",
     "output_type": "stream",
     "text": [
      "/var/folders/tz/twpl0tbs3bl5mb3vdgf3gdrc0000gn/T/ipykernel_1354/4088268779.py:60: RuntimeWarning: More than 20 figures have been opened. Figures created through the pyplot interface (`matplotlib.pyplot.figure`) are retained until explicitly closed and may consume too much memory. (To control this warning, see the rcParam `figure.max_open_warning`). Consider using `matplotlib.pyplot.close()`.\n",
      "  figure, ax = plt.subplots(2, 1, figsize=(15, 12))\n",
      "/var/folders/tz/twpl0tbs3bl5mb3vdgf3gdrc0000gn/T/ipykernel_1354/4088268779.py:59: RuntimeWarning: More than 20 figures have been opened. Figures created through the pyplot interface (`matplotlib.pyplot.figure`) are retained until explicitly closed and may consume too much memory. (To control this warning, see the rcParam `figure.max_open_warning`). Consider using `matplotlib.pyplot.close()`.\n",
      "  plt.figure(figsize=(30, 10))\n"
     ]
    },
    {
     "data": {
      "text/plain": [
       "<Figure size 3000x1000 with 0 Axes>"
      ]
     },
     "metadata": {},
     "output_type": "display_data"
    },
    {
     "data": {
      "text/plain": [
       "<Figure size 3000x1000 with 0 Axes>"
      ]
     },
     "metadata": {},
     "output_type": "display_data"
    },
    {
     "data": {
      "text/plain": [
       "<Figure size 3000x1000 with 0 Axes>"
      ]
     },
     "metadata": {},
     "output_type": "display_data"
    },
    {
     "data": {
      "text/plain": [
       "<Figure size 3000x1000 with 0 Axes>"
      ]
     },
     "metadata": {},
     "output_type": "display_data"
    },
    {
     "data": {
      "text/plain": [
       "<Figure size 3000x1000 with 0 Axes>"
      ]
     },
     "metadata": {},
     "output_type": "display_data"
    },
    {
     "data": {
      "text/plain": [
       "<Figure size 3000x1000 with 0 Axes>"
      ]
     },
     "metadata": {},
     "output_type": "display_data"
    },
    {
     "data": {
      "text/plain": [
       "<Figure size 3000x1000 with 0 Axes>"
      ]
     },
     "metadata": {},
     "output_type": "display_data"
    },
    {
     "data": {
      "text/plain": [
       "<Figure size 3000x1000 with 0 Axes>"
      ]
     },
     "metadata": {},
     "output_type": "display_data"
    },
    {
     "data": {
      "text/plain": [
       "<Figure size 3000x1000 with 0 Axes>"
      ]
     },
     "metadata": {},
     "output_type": "display_data"
    },
    {
     "data": {
      "text/plain": [
       "<Figure size 3000x1000 with 0 Axes>"
      ]
     },
     "metadata": {},
     "output_type": "display_data"
    },
    {
     "data": {
      "text/plain": [
       "<Figure size 3000x1000 with 0 Axes>"
      ]
     },
     "metadata": {},
     "output_type": "display_data"
    },
    {
     "data": {
      "text/plain": [
       "<Figure size 3000x1000 with 0 Axes>"
      ]
     },
     "metadata": {},
     "output_type": "display_data"
    },
    {
     "data": {
      "text/plain": [
       "<Figure size 3000x1000 with 0 Axes>"
      ]
     },
     "metadata": {},
     "output_type": "display_data"
    },
    {
     "data": {
      "text/plain": [
       "<Figure size 3000x1000 with 0 Axes>"
      ]
     },
     "metadata": {},
     "output_type": "display_data"
    },
    {
     "data": {
      "text/plain": [
       "<Figure size 3000x1000 with 0 Axes>"
      ]
     },
     "metadata": {},
     "output_type": "display_data"
    },
    {
     "data": {
      "text/plain": [
       "<Figure size 3000x1000 with 0 Axes>"
      ]
     },
     "metadata": {},
     "output_type": "display_data"
    },
    {
     "data": {
      "text/plain": [
       "<Figure size 3000x1000 with 0 Axes>"
      ]
     },
     "metadata": {},
     "output_type": "display_data"
    },
    {
     "data": {
      "text/plain": [
       "<Figure size 3000x1000 with 0 Axes>"
      ]
     },
     "metadata": {},
     "output_type": "display_data"
    },
    {
     "data": {
      "text/plain": [
       "<Figure size 3000x1000 with 0 Axes>"
      ]
     },
     "metadata": {},
     "output_type": "display_data"
    },
    {
     "data": {
      "text/plain": [
       "<Figure size 3000x1000 with 0 Axes>"
      ]
     },
     "metadata": {},
     "output_type": "display_data"
    },
    {
     "data": {
      "text/plain": [
       "<Figure size 3000x1000 with 0 Axes>"
      ]
     },
     "metadata": {},
     "output_type": "display_data"
    },
    {
     "data": {
      "text/plain": [
       "<Figure size 3000x1000 with 0 Axes>"
      ]
     },
     "metadata": {},
     "output_type": "display_data"
    },
    {
     "data": {
      "text/plain": [
       "<Figure size 3000x1000 with 0 Axes>"
      ]
     },
     "metadata": {},
     "output_type": "display_data"
    },
    {
     "data": {
      "text/plain": [
       "<Figure size 3000x1000 with 0 Axes>"
      ]
     },
     "metadata": {},
     "output_type": "display_data"
    },
    {
     "data": {
      "text/plain": [
       "<Figure size 3000x1000 with 0 Axes>"
      ]
     },
     "metadata": {},
     "output_type": "display_data"
    },
    {
     "data": {
      "text/plain": [
       "<Figure size 3000x1000 with 0 Axes>"
      ]
     },
     "metadata": {},
     "output_type": "display_data"
    },
    {
     "data": {
      "text/plain": [
       "<Figure size 3000x1000 with 0 Axes>"
      ]
     },
     "metadata": {},
     "output_type": "display_data"
    },
    {
     "data": {
      "text/plain": [
       "<Figure size 3000x1000 with 0 Axes>"
      ]
     },
     "metadata": {},
     "output_type": "display_data"
    },
    {
     "data": {
      "text/plain": [
       "<Figure size 3000x1000 with 0 Axes>"
      ]
     },
     "metadata": {},
     "output_type": "display_data"
    },
    {
     "data": {
      "text/plain": [
       "<Figure size 3000x1000 with 0 Axes>"
      ]
     },
     "metadata": {},
     "output_type": "display_data"
    },
    {
     "data": {
      "text/plain": [
       "<Figure size 3000x1000 with 0 Axes>"
      ]
     },
     "metadata": {},
     "output_type": "display_data"
    },
    {
     "data": {
      "text/plain": [
       "<Figure size 3000x1000 with 0 Axes>"
      ]
     },
     "metadata": {},
     "output_type": "display_data"
    },
    {
     "data": {
      "text/plain": [
       "<Figure size 3000x1000 with 0 Axes>"
      ]
     },
     "metadata": {},
     "output_type": "display_data"
    },
    {
     "data": {
      "text/plain": [
       "<Figure size 3000x1000 with 0 Axes>"
      ]
     },
     "metadata": {},
     "output_type": "display_data"
    },
    {
     "data": {
      "text/plain": [
       "<Figure size 3000x1000 with 0 Axes>"
      ]
     },
     "metadata": {},
     "output_type": "display_data"
    },
    {
     "data": {
      "text/plain": [
       "<Figure size 3000x1000 with 0 Axes>"
      ]
     },
     "metadata": {},
     "output_type": "display_data"
    },
    {
     "data": {
      "text/plain": [
       "<Figure size 3000x1000 with 0 Axes>"
      ]
     },
     "metadata": {},
     "output_type": "display_data"
    },
    {
     "data": {
      "text/plain": [
       "<Figure size 3000x1000 with 0 Axes>"
      ]
     },
     "metadata": {},
     "output_type": "display_data"
    },
    {
     "data": {
      "text/plain": [
       "<Figure size 3000x1000 with 0 Axes>"
      ]
     },
     "metadata": {},
     "output_type": "display_data"
    },
    {
     "data": {
      "text/plain": [
       "<Figure size 3000x1000 with 0 Axes>"
      ]
     },
     "metadata": {},
     "output_type": "display_data"
    },
    {
     "data": {
      "text/plain": [
       "<Figure size 3000x1000 with 0 Axes>"
      ]
     },
     "metadata": {},
     "output_type": "display_data"
    },
    {
     "data": {
      "text/plain": [
       "<Figure size 3000x1000 with 0 Axes>"
      ]
     },
     "metadata": {},
     "output_type": "display_data"
    },
    {
     "data": {
      "text/plain": [
       "<Figure size 3000x1000 with 0 Axes>"
      ]
     },
     "metadata": {},
     "output_type": "display_data"
    },
    {
     "data": {
      "text/plain": [
       "<Figure size 3000x1000 with 0 Axes>"
      ]
     },
     "metadata": {},
     "output_type": "display_data"
    },
    {
     "data": {
      "text/plain": [
       "<Figure size 3000x1000 with 0 Axes>"
      ]
     },
     "metadata": {},
     "output_type": "display_data"
    },
    {
     "data": {
      "text/plain": [
       "<Figure size 3000x1000 with 0 Axes>"
      ]
     },
     "metadata": {},
     "output_type": "display_data"
    },
    {
     "data": {
      "text/plain": [
       "<Figure size 3000x1000 with 0 Axes>"
      ]
     },
     "metadata": {},
     "output_type": "display_data"
    },
    {
     "data": {
      "text/plain": [
       "<Figure size 3000x1000 with 0 Axes>"
      ]
     },
     "metadata": {},
     "output_type": "display_data"
    },
    {
     "data": {
      "text/plain": [
       "<Figure size 3000x1000 with 0 Axes>"
      ]
     },
     "metadata": {},
     "output_type": "display_data"
    },
    {
     "data": {
      "text/plain": [
       "<Figure size 3000x1000 with 0 Axes>"
      ]
     },
     "metadata": {},
     "output_type": "display_data"
    },
    {
     "data": {
      "text/plain": [
       "<Figure size 3000x1000 with 0 Axes>"
      ]
     },
     "metadata": {},
     "output_type": "display_data"
    },
    {
     "data": {
      "text/plain": [
       "<Figure size 3000x1000 with 0 Axes>"
      ]
     },
     "metadata": {},
     "output_type": "display_data"
    },
    {
     "data": {
      "text/plain": [
       "<Figure size 3000x1000 with 0 Axes>"
      ]
     },
     "metadata": {},
     "output_type": "display_data"
    },
    {
     "data": {
      "text/plain": [
       "<Figure size 3000x1000 with 0 Axes>"
      ]
     },
     "metadata": {},
     "output_type": "display_data"
    },
    {
     "data": {
      "text/plain": [
       "<Figure size 3000x1000 with 0 Axes>"
      ]
     },
     "metadata": {},
     "output_type": "display_data"
    },
    {
     "data": {
      "text/plain": [
       "<Figure size 3000x1000 with 0 Axes>"
      ]
     },
     "metadata": {},
     "output_type": "display_data"
    },
    {
     "data": {
      "text/plain": [
       "<Figure size 3000x1000 with 0 Axes>"
      ]
     },
     "metadata": {},
     "output_type": "display_data"
    },
    {
     "data": {
      "text/plain": [
       "<Figure size 3000x1000 with 0 Axes>"
      ]
     },
     "metadata": {},
     "output_type": "display_data"
    },
    {
     "data": {
      "text/plain": [
       "<Figure size 3000x1000 with 0 Axes>"
      ]
     },
     "metadata": {},
     "output_type": "display_data"
    },
    {
     "data": {
      "text/plain": [
       "<Figure size 3000x1000 with 0 Axes>"
      ]
     },
     "metadata": {},
     "output_type": "display_data"
    },
    {
     "data": {
      "text/plain": [
       "<Figure size 3000x1000 with 0 Axes>"
      ]
     },
     "metadata": {},
     "output_type": "display_data"
    },
    {
     "data": {
      "text/plain": [
       "<Figure size 3000x1000 with 0 Axes>"
      ]
     },
     "metadata": {},
     "output_type": "display_data"
    },
    {
     "data": {
      "text/plain": [
       "<Figure size 3000x1000 with 0 Axes>"
      ]
     },
     "metadata": {},
     "output_type": "display_data"
    },
    {
     "data": {
      "text/plain": [
       "<Figure size 3000x1000 with 0 Axes>"
      ]
     },
     "metadata": {},
     "output_type": "display_data"
    },
    {
     "data": {
      "text/plain": [
       "<Figure size 3000x1000 with 0 Axes>"
      ]
     },
     "metadata": {},
     "output_type": "display_data"
    },
    {
     "data": {
      "text/plain": [
       "<Figure size 3000x1000 with 0 Axes>"
      ]
     },
     "metadata": {},
     "output_type": "display_data"
    },
    {
     "data": {
      "text/plain": [
       "<Figure size 3000x1000 with 0 Axes>"
      ]
     },
     "metadata": {},
     "output_type": "display_data"
    },
    {
     "data": {
      "text/plain": [
       "<Figure size 3000x1000 with 0 Axes>"
      ]
     },
     "metadata": {},
     "output_type": "display_data"
    },
    {
     "data": {
      "text/plain": [
       "<Figure size 3000x1000 with 0 Axes>"
      ]
     },
     "metadata": {},
     "output_type": "display_data"
    },
    {
     "data": {
      "text/plain": [
       "<Figure size 3000x1000 with 0 Axes>"
      ]
     },
     "metadata": {},
     "output_type": "display_data"
    },
    {
     "data": {
      "text/plain": [
       "<Figure size 3000x1000 with 0 Axes>"
      ]
     },
     "metadata": {},
     "output_type": "display_data"
    },
    {
     "data": {
      "text/plain": [
       "<Figure size 3000x1000 with 0 Axes>"
      ]
     },
     "metadata": {},
     "output_type": "display_data"
    },
    {
     "data": {
      "text/plain": [
       "<Figure size 3000x1000 with 0 Axes>"
      ]
     },
     "metadata": {},
     "output_type": "display_data"
    },
    {
     "data": {
      "text/plain": [
       "<Figure size 3000x1000 with 0 Axes>"
      ]
     },
     "metadata": {},
     "output_type": "display_data"
    },
    {
     "data": {
      "text/plain": [
       "<Figure size 3000x1000 with 0 Axes>"
      ]
     },
     "metadata": {},
     "output_type": "display_data"
    },
    {
     "data": {
      "text/plain": [
       "<Figure size 3000x1000 with 0 Axes>"
      ]
     },
     "metadata": {},
     "output_type": "display_data"
    },
    {
     "data": {
      "text/plain": [
       "<Figure size 3000x1000 with 0 Axes>"
      ]
     },
     "metadata": {},
     "output_type": "display_data"
    },
    {
     "data": {
      "text/plain": [
       "<Figure size 3000x1000 with 0 Axes>"
      ]
     },
     "metadata": {},
     "output_type": "display_data"
    },
    {
     "data": {
      "text/plain": [
       "<Figure size 3000x1000 with 0 Axes>"
      ]
     },
     "metadata": {},
     "output_type": "display_data"
    },
    {
     "data": {
      "text/plain": [
       "<Figure size 3000x1000 with 0 Axes>"
      ]
     },
     "metadata": {},
     "output_type": "display_data"
    },
    {
     "data": {
      "text/plain": [
       "<Figure size 3000x1000 with 0 Axes>"
      ]
     },
     "metadata": {},
     "output_type": "display_data"
    },
    {
     "data": {
      "text/plain": [
       "<Figure size 3000x1000 with 0 Axes>"
      ]
     },
     "metadata": {},
     "output_type": "display_data"
    },
    {
     "data": {
      "text/plain": [
       "<Figure size 3000x1000 with 0 Axes>"
      ]
     },
     "metadata": {},
     "output_type": "display_data"
    },
    {
     "data": {
      "text/plain": [
       "<Figure size 3000x1000 with 0 Axes>"
      ]
     },
     "metadata": {},
     "output_type": "display_data"
    },
    {
     "data": {
      "text/plain": [
       "<Figure size 3000x1000 with 0 Axes>"
      ]
     },
     "metadata": {},
     "output_type": "display_data"
    },
    {
     "data": {
      "text/plain": [
       "<Figure size 3000x1000 with 0 Axes>"
      ]
     },
     "metadata": {},
     "output_type": "display_data"
    },
    {
     "data": {
      "text/plain": [
       "<Figure size 3000x1000 with 0 Axes>"
      ]
     },
     "metadata": {},
     "output_type": "display_data"
    },
    {
     "data": {
      "text/plain": [
       "<Figure size 3000x1000 with 0 Axes>"
      ]
     },
     "metadata": {},
     "output_type": "display_data"
    },
    {
     "data": {
      "text/plain": [
       "<Figure size 3000x1000 with 0 Axes>"
      ]
     },
     "metadata": {},
     "output_type": "display_data"
    },
    {
     "data": {
      "text/plain": [
       "<Figure size 3000x1000 with 0 Axes>"
      ]
     },
     "metadata": {},
     "output_type": "display_data"
    },
    {
     "data": {
      "text/plain": [
       "<Figure size 3000x1000 with 0 Axes>"
      ]
     },
     "metadata": {},
     "output_type": "display_data"
    },
    {
     "data": {
      "text/plain": [
       "<Figure size 3000x1000 with 0 Axes>"
      ]
     },
     "metadata": {},
     "output_type": "display_data"
    },
    {
     "data": {
      "text/plain": [
       "<Figure size 3000x1000 with 0 Axes>"
      ]
     },
     "metadata": {},
     "output_type": "display_data"
    },
    {
     "data": {
      "text/plain": [
       "<Figure size 3000x1000 with 0 Axes>"
      ]
     },
     "metadata": {},
     "output_type": "display_data"
    },
    {
     "data": {
      "text/plain": [
       "<Figure size 3000x1000 with 0 Axes>"
      ]
     },
     "metadata": {},
     "output_type": "display_data"
    },
    {
     "data": {
      "text/plain": [
       "<Figure size 3000x1000 with 0 Axes>"
      ]
     },
     "metadata": {},
     "output_type": "display_data"
    },
    {
     "data": {
      "text/plain": [
       "<Figure size 3000x1000 with 0 Axes>"
      ]
     },
     "metadata": {},
     "output_type": "display_data"
    },
    {
     "data": {
      "text/plain": [
       "<Figure size 3000x1000 with 0 Axes>"
      ]
     },
     "metadata": {},
     "output_type": "display_data"
    },
    {
     "data": {
      "text/plain": [
       "<Figure size 3000x1000 with 0 Axes>"
      ]
     },
     "metadata": {},
     "output_type": "display_data"
    },
    {
     "data": {
      "text/plain": [
       "<Figure size 3000x1000 with 0 Axes>"
      ]
     },
     "metadata": {},
     "output_type": "display_data"
    },
    {
     "data": {
      "text/plain": [
       "<Figure size 3000x1000 with 0 Axes>"
      ]
     },
     "metadata": {},
     "output_type": "display_data"
    },
    {
     "data": {
      "text/plain": [
       "<Figure size 3000x1000 with 0 Axes>"
      ]
     },
     "metadata": {},
     "output_type": "display_data"
    },
    {
     "data": {
      "text/plain": [
       "<Figure size 3000x1000 with 0 Axes>"
      ]
     },
     "metadata": {},
     "output_type": "display_data"
    },
    {
     "data": {
      "text/plain": [
       "<Figure size 3000x1000 with 0 Axes>"
      ]
     },
     "metadata": {},
     "output_type": "display_data"
    },
    {
     "data": {
      "text/plain": [
       "<Figure size 3000x1000 with 0 Axes>"
      ]
     },
     "metadata": {},
     "output_type": "display_data"
    },
    {
     "data": {
      "text/plain": [
       "<Figure size 3000x1000 with 0 Axes>"
      ]
     },
     "metadata": {},
     "output_type": "display_data"
    },
    {
     "data": {
      "text/plain": [
       "<Figure size 3000x1000 with 0 Axes>"
      ]
     },
     "metadata": {},
     "output_type": "display_data"
    },
    {
     "data": {
      "text/plain": [
       "<Figure size 3000x1000 with 0 Axes>"
      ]
     },
     "metadata": {},
     "output_type": "display_data"
    },
    {
     "data": {
      "text/plain": [
       "<Figure size 3000x1000 with 0 Axes>"
      ]
     },
     "metadata": {},
     "output_type": "display_data"
    },
    {
     "data": {
      "text/plain": [
       "<Figure size 3000x1000 with 0 Axes>"
      ]
     },
     "metadata": {},
     "output_type": "display_data"
    },
    {
     "data": {
      "text/plain": [
       "<Figure size 3000x1000 with 0 Axes>"
      ]
     },
     "metadata": {},
     "output_type": "display_data"
    },
    {
     "data": {
      "text/plain": [
       "<Figure size 3000x1000 with 0 Axes>"
      ]
     },
     "metadata": {},
     "output_type": "display_data"
    },
    {
     "data": {
      "text/plain": [
       "<Figure size 3000x1000 with 0 Axes>"
      ]
     },
     "metadata": {},
     "output_type": "display_data"
    },
    {
     "data": {
      "text/plain": [
       "<Figure size 3000x1000 with 0 Axes>"
      ]
     },
     "metadata": {},
     "output_type": "display_data"
    },
    {
     "data": {
      "text/plain": [
       "<Figure size 3000x1000 with 0 Axes>"
      ]
     },
     "metadata": {},
     "output_type": "display_data"
    },
    {
     "data": {
      "text/plain": [
       "<Figure size 3000x1000 with 0 Axes>"
      ]
     },
     "metadata": {},
     "output_type": "display_data"
    },
    {
     "data": {
      "text/plain": [
       "<Figure size 3000x1000 with 0 Axes>"
      ]
     },
     "metadata": {},
     "output_type": "display_data"
    },
    {
     "data": {
      "text/plain": [
       "<Figure size 3000x1000 with 0 Axes>"
      ]
     },
     "metadata": {},
     "output_type": "display_data"
    },
    {
     "data": {
      "text/plain": [
       "<Figure size 3000x1000 with 0 Axes>"
      ]
     },
     "metadata": {},
     "output_type": "display_data"
    },
    {
     "data": {
      "text/plain": [
       "<Figure size 3000x1000 with 0 Axes>"
      ]
     },
     "metadata": {},
     "output_type": "display_data"
    },
    {
     "data": {
      "text/plain": [
       "<Figure size 3000x1000 with 0 Axes>"
      ]
     },
     "metadata": {},
     "output_type": "display_data"
    },
    {
     "data": {
      "text/plain": [
       "<Figure size 3000x1000 with 0 Axes>"
      ]
     },
     "metadata": {},
     "output_type": "display_data"
    },
    {
     "data": {
      "text/plain": [
       "<Figure size 3000x1000 with 0 Axes>"
      ]
     },
     "metadata": {},
     "output_type": "display_data"
    },
    {
     "data": {
      "text/plain": [
       "<Figure size 3000x1000 with 0 Axes>"
      ]
     },
     "metadata": {},
     "output_type": "display_data"
    },
    {
     "data": {
      "text/plain": [
       "<Figure size 3000x1000 with 0 Axes>"
      ]
     },
     "metadata": {},
     "output_type": "display_data"
    },
    {
     "data": {
      "text/plain": [
       "<Figure size 3000x1000 with 0 Axes>"
      ]
     },
     "metadata": {},
     "output_type": "display_data"
    },
    {
     "data": {
      "text/plain": [
       "<Figure size 3000x1000 with 0 Axes>"
      ]
     },
     "metadata": {},
     "output_type": "display_data"
    },
    {
     "data": {
      "text/plain": [
       "<Figure size 3000x1000 with 0 Axes>"
      ]
     },
     "metadata": {},
     "output_type": "display_data"
    },
    {
     "data": {
      "text/plain": [
       "<Figure size 3000x1000 with 0 Axes>"
      ]
     },
     "metadata": {},
     "output_type": "display_data"
    },
    {
     "data": {
      "text/plain": [
       "<Figure size 3000x1000 with 0 Axes>"
      ]
     },
     "metadata": {},
     "output_type": "display_data"
    },
    {
     "data": {
      "text/plain": [
       "<Figure size 3000x1000 with 0 Axes>"
      ]
     },
     "metadata": {},
     "output_type": "display_data"
    },
    {
     "data": {
      "text/plain": [
       "<Figure size 3000x1000 with 0 Axes>"
      ]
     },
     "metadata": {},
     "output_type": "display_data"
    },
    {
     "data": {
      "text/plain": [
       "<Figure size 3000x1000 with 0 Axes>"
      ]
     },
     "metadata": {},
     "output_type": "display_data"
    },
    {
     "data": {
      "text/plain": [
       "<Figure size 3000x1000 with 0 Axes>"
      ]
     },
     "metadata": {},
     "output_type": "display_data"
    },
    {
     "data": {
      "text/plain": [
       "<Figure size 3000x1000 with 0 Axes>"
      ]
     },
     "metadata": {},
     "output_type": "display_data"
    },
    {
     "data": {
      "text/plain": [
       "<Figure size 3000x1000 with 0 Axes>"
      ]
     },
     "metadata": {},
     "output_type": "display_data"
    },
    {
     "data": {
      "text/plain": [
       "<Figure size 3000x1000 with 0 Axes>"
      ]
     },
     "metadata": {},
     "output_type": "display_data"
    },
    {
     "data": {
      "text/plain": [
       "<Figure size 3000x1000 with 0 Axes>"
      ]
     },
     "metadata": {},
     "output_type": "display_data"
    },
    {
     "data": {
      "text/plain": [
       "<Figure size 3000x1000 with 0 Axes>"
      ]
     },
     "metadata": {},
     "output_type": "display_data"
    },
    {
     "data": {
      "text/plain": [
       "<Figure size 3000x1000 with 0 Axes>"
      ]
     },
     "metadata": {},
     "output_type": "display_data"
    },
    {
     "data": {
      "text/plain": [
       "<Figure size 3000x1000 with 0 Axes>"
      ]
     },
     "metadata": {},
     "output_type": "display_data"
    },
    {
     "data": {
      "text/plain": [
       "<Figure size 3000x1000 with 0 Axes>"
      ]
     },
     "metadata": {},
     "output_type": "display_data"
    },
    {
     "data": {
      "text/plain": [
       "<Figure size 3000x1000 with 0 Axes>"
      ]
     },
     "metadata": {},
     "output_type": "display_data"
    },
    {
     "data": {
      "text/plain": [
       "<Figure size 3000x1000 with 0 Axes>"
      ]
     },
     "metadata": {},
     "output_type": "display_data"
    },
    {
     "data": {
      "text/plain": [
       "<Figure size 3000x1000 with 0 Axes>"
      ]
     },
     "metadata": {},
     "output_type": "display_data"
    },
    {
     "data": {
      "text/plain": [
       "<Figure size 3000x1000 with 0 Axes>"
      ]
     },
     "metadata": {},
     "output_type": "display_data"
    },
    {
     "data": {
      "text/plain": [
       "<Figure size 3000x1000 with 0 Axes>"
      ]
     },
     "metadata": {},
     "output_type": "display_data"
    },
    {
     "data": {
      "text/plain": [
       "<Figure size 3000x1000 with 0 Axes>"
      ]
     },
     "metadata": {},
     "output_type": "display_data"
    },
    {
     "data": {
      "text/plain": [
       "<Figure size 3000x1000 with 0 Axes>"
      ]
     },
     "metadata": {},
     "output_type": "display_data"
    },
    {
     "data": {
      "text/plain": [
       "<Figure size 3000x1000 with 0 Axes>"
      ]
     },
     "metadata": {},
     "output_type": "display_data"
    },
    {
     "data": {
      "text/plain": [
       "<Figure size 3000x1000 with 0 Axes>"
      ]
     },
     "metadata": {},
     "output_type": "display_data"
    },
    {
     "data": {
      "text/plain": [
       "<Figure size 3000x1000 with 0 Axes>"
      ]
     },
     "metadata": {},
     "output_type": "display_data"
    },
    {
     "data": {
      "text/plain": [
       "<Figure size 3000x1000 with 0 Axes>"
      ]
     },
     "metadata": {},
     "output_type": "display_data"
    },
    {
     "data": {
      "text/plain": [
       "<Figure size 3000x1000 with 0 Axes>"
      ]
     },
     "metadata": {},
     "output_type": "display_data"
    },
    {
     "data": {
      "text/plain": [
       "<Figure size 3000x1000 with 0 Axes>"
      ]
     },
     "metadata": {},
     "output_type": "display_data"
    },
    {
     "data": {
      "text/plain": [
       "<Figure size 3000x1000 with 0 Axes>"
      ]
     },
     "metadata": {},
     "output_type": "display_data"
    },
    {
     "data": {
      "text/plain": [
       "<Figure size 3000x1000 with 0 Axes>"
      ]
     },
     "metadata": {},
     "output_type": "display_data"
    },
    {
     "data": {
      "text/plain": [
       "<Figure size 3000x1000 with 0 Axes>"
      ]
     },
     "metadata": {},
     "output_type": "display_data"
    },
    {
     "data": {
      "text/plain": [
       "<Figure size 3000x1000 with 0 Axes>"
      ]
     },
     "metadata": {},
     "output_type": "display_data"
    },
    {
     "data": {
      "text/plain": [
       "<Figure size 3000x1000 with 0 Axes>"
      ]
     },
     "metadata": {},
     "output_type": "display_data"
    },
    {
     "data": {
      "text/plain": [
       "<Figure size 3000x1000 with 0 Axes>"
      ]
     },
     "metadata": {},
     "output_type": "display_data"
    },
    {
     "data": {
      "text/plain": [
       "<Figure size 3000x1000 with 0 Axes>"
      ]
     },
     "metadata": {},
     "output_type": "display_data"
    },
    {
     "data": {
      "text/plain": [
       "<Figure size 3000x1000 with 0 Axes>"
      ]
     },
     "metadata": {},
     "output_type": "display_data"
    },
    {
     "data": {
      "text/plain": [
       "<Figure size 3000x1000 with 0 Axes>"
      ]
     },
     "metadata": {},
     "output_type": "display_data"
    },
    {
     "data": {
      "text/plain": [
       "<Figure size 3000x1000 with 0 Axes>"
      ]
     },
     "metadata": {},
     "output_type": "display_data"
    },
    {
     "data": {
      "text/plain": [
       "<Figure size 3000x1000 with 0 Axes>"
      ]
     },
     "metadata": {},
     "output_type": "display_data"
    },
    {
     "data": {
      "text/plain": [
       "<Figure size 3000x1000 with 0 Axes>"
      ]
     },
     "metadata": {},
     "output_type": "display_data"
    },
    {
     "data": {
      "text/plain": [
       "<Figure size 3000x1000 with 0 Axes>"
      ]
     },
     "metadata": {},
     "output_type": "display_data"
    },
    {
     "data": {
      "text/plain": [
       "<Figure size 3000x1000 with 0 Axes>"
      ]
     },
     "metadata": {},
     "output_type": "display_data"
    },
    {
     "data": {
      "text/plain": [
       "<Figure size 3000x1000 with 0 Axes>"
      ]
     },
     "metadata": {},
     "output_type": "display_data"
    },
    {
     "data": {
      "text/plain": [
       "<Figure size 3000x1000 with 0 Axes>"
      ]
     },
     "metadata": {},
     "output_type": "display_data"
    },
    {
     "data": {
      "text/plain": [
       "<Figure size 3000x1000 with 0 Axes>"
      ]
     },
     "metadata": {},
     "output_type": "display_data"
    },
    {
     "data": {
      "text/plain": [
       "<Figure size 3000x1000 with 0 Axes>"
      ]
     },
     "metadata": {},
     "output_type": "display_data"
    },
    {
     "data": {
      "text/plain": [
       "<Figure size 3000x1000 with 0 Axes>"
      ]
     },
     "metadata": {},
     "output_type": "display_data"
    },
    {
     "data": {
      "text/plain": [
       "<Figure size 3000x1000 with 0 Axes>"
      ]
     },
     "metadata": {},
     "output_type": "display_data"
    },
    {
     "data": {
      "text/plain": [
       "<Figure size 3000x1000 with 0 Axes>"
      ]
     },
     "metadata": {},
     "output_type": "display_data"
    },
    {
     "data": {
      "text/plain": [
       "<Figure size 3000x1000 with 0 Axes>"
      ]
     },
     "metadata": {},
     "output_type": "display_data"
    },
    {
     "data": {
      "text/plain": [
       "<Figure size 3000x1000 with 0 Axes>"
      ]
     },
     "metadata": {},
     "output_type": "display_data"
    },
    {
     "data": {
      "text/plain": [
       "<Figure size 3000x1000 with 0 Axes>"
      ]
     },
     "metadata": {},
     "output_type": "display_data"
    },
    {
     "data": {
      "text/plain": [
       "<Figure size 3000x1000 with 0 Axes>"
      ]
     },
     "metadata": {},
     "output_type": "display_data"
    },
    {
     "data": {
      "text/plain": [
       "<Figure size 3000x1000 with 0 Axes>"
      ]
     },
     "metadata": {},
     "output_type": "display_data"
    },
    {
     "data": {
      "text/plain": [
       "<Figure size 3000x1000 with 0 Axes>"
      ]
     },
     "metadata": {},
     "output_type": "display_data"
    },
    {
     "data": {
      "text/plain": [
       "<Figure size 3000x1000 with 0 Axes>"
      ]
     },
     "metadata": {},
     "output_type": "display_data"
    },
    {
     "data": {
      "text/plain": [
       "<Figure size 3000x1000 with 0 Axes>"
      ]
     },
     "metadata": {},
     "output_type": "display_data"
    },
    {
     "data": {
      "text/plain": [
       "<Figure size 3000x1000 with 0 Axes>"
      ]
     },
     "metadata": {},
     "output_type": "display_data"
    },
    {
     "data": {
      "text/plain": [
       "<Figure size 3000x1000 with 0 Axes>"
      ]
     },
     "metadata": {},
     "output_type": "display_data"
    },
    {
     "data": {
      "text/plain": [
       "<Figure size 3000x1000 with 0 Axes>"
      ]
     },
     "metadata": {},
     "output_type": "display_data"
    },
    {
     "data": {
      "text/plain": [
       "<Figure size 3000x1000 with 0 Axes>"
      ]
     },
     "metadata": {},
     "output_type": "display_data"
    },
    {
     "data": {
      "text/plain": [
       "<Figure size 3000x1000 with 0 Axes>"
      ]
     },
     "metadata": {},
     "output_type": "display_data"
    },
    {
     "data": {
      "text/plain": [
       "<Figure size 3000x1000 with 0 Axes>"
      ]
     },
     "metadata": {},
     "output_type": "display_data"
    },
    {
     "data": {
      "text/plain": [
       "<Figure size 3000x1000 with 0 Axes>"
      ]
     },
     "metadata": {},
     "output_type": "display_data"
    },
    {
     "data": {
      "text/plain": [
       "<Figure size 3000x1000 with 0 Axes>"
      ]
     },
     "metadata": {},
     "output_type": "display_data"
    },
    {
     "data": {
      "text/plain": [
       "<Figure size 3000x1000 with 0 Axes>"
      ]
     },
     "metadata": {},
     "output_type": "display_data"
    },
    {
     "data": {
      "text/plain": [
       "<Figure size 3000x1000 with 0 Axes>"
      ]
     },
     "metadata": {},
     "output_type": "display_data"
    },
    {
     "data": {
      "text/plain": [
       "<Figure size 3000x1000 with 0 Axes>"
      ]
     },
     "metadata": {},
     "output_type": "display_data"
    },
    {
     "data": {
      "text/plain": [
       "<Figure size 3000x1000 with 0 Axes>"
      ]
     },
     "metadata": {},
     "output_type": "display_data"
    },
    {
     "data": {
      "text/plain": [
       "<Figure size 3000x1000 with 0 Axes>"
      ]
     },
     "metadata": {},
     "output_type": "display_data"
    },
    {
     "data": {
      "text/plain": [
       "<Figure size 3000x1000 with 0 Axes>"
      ]
     },
     "metadata": {},
     "output_type": "display_data"
    },
    {
     "data": {
      "text/plain": [
       "<Figure size 3000x1000 with 0 Axes>"
      ]
     },
     "metadata": {},
     "output_type": "display_data"
    },
    {
     "data": {
      "text/plain": [
       "<Figure size 3000x1000 with 0 Axes>"
      ]
     },
     "metadata": {},
     "output_type": "display_data"
    },
    {
     "data": {
      "text/plain": [
       "<Figure size 3000x1000 with 0 Axes>"
      ]
     },
     "metadata": {},
     "output_type": "display_data"
    },
    {
     "data": {
      "text/plain": [
       "<Figure size 3000x1000 with 0 Axes>"
      ]
     },
     "metadata": {},
     "output_type": "display_data"
    },
    {
     "data": {
      "text/plain": [
       "<Figure size 3000x1000 with 0 Axes>"
      ]
     },
     "metadata": {},
     "output_type": "display_data"
    },
    {
     "data": {
      "text/plain": [
       "<Figure size 3000x1000 with 0 Axes>"
      ]
     },
     "metadata": {},
     "output_type": "display_data"
    },
    {
     "data": {
      "text/plain": [
       "<Figure size 3000x1000 with 0 Axes>"
      ]
     },
     "metadata": {},
     "output_type": "display_data"
    },
    {
     "data": {
      "text/plain": [
       "<Figure size 3000x1000 with 0 Axes>"
      ]
     },
     "metadata": {},
     "output_type": "display_data"
    },
    {
     "data": {
      "text/plain": [
       "<Figure size 3000x1000 with 0 Axes>"
      ]
     },
     "metadata": {},
     "output_type": "display_data"
    },
    {
     "data": {
      "text/plain": [
       "<Figure size 3000x1000 with 0 Axes>"
      ]
     },
     "metadata": {},
     "output_type": "display_data"
    },
    {
     "data": {
      "text/plain": [
       "<Figure size 3000x1000 with 0 Axes>"
      ]
     },
     "metadata": {},
     "output_type": "display_data"
    },
    {
     "data": {
      "text/plain": [
       "<Figure size 3000x1000 with 0 Axes>"
      ]
     },
     "metadata": {},
     "output_type": "display_data"
    },
    {
     "data": {
      "text/plain": [
       "<Figure size 3000x1000 with 0 Axes>"
      ]
     },
     "metadata": {},
     "output_type": "display_data"
    },
    {
     "data": {
      "text/plain": [
       "<Figure size 3000x1000 with 0 Axes>"
      ]
     },
     "metadata": {},
     "output_type": "display_data"
    },
    {
     "data": {
      "text/plain": [
       "<Figure size 3000x1000 with 0 Axes>"
      ]
     },
     "metadata": {},
     "output_type": "display_data"
    },
    {
     "data": {
      "text/plain": [
       "<Figure size 3000x1000 with 0 Axes>"
      ]
     },
     "metadata": {},
     "output_type": "display_data"
    },
    {
     "data": {
      "text/plain": [
       "<Figure size 3000x1000 with 0 Axes>"
      ]
     },
     "metadata": {},
     "output_type": "display_data"
    },
    {
     "data": {
      "text/plain": [
       "<Figure size 3000x1000 with 0 Axes>"
      ]
     },
     "metadata": {},
     "output_type": "display_data"
    },
    {
     "data": {
      "text/plain": [
       "<Figure size 3000x1000 with 0 Axes>"
      ]
     },
     "metadata": {},
     "output_type": "display_data"
    },
    {
     "data": {
      "text/plain": [
       "<Figure size 3000x1000 with 0 Axes>"
      ]
     },
     "metadata": {},
     "output_type": "display_data"
    },
    {
     "data": {
      "text/plain": [
       "<Figure size 3000x1000 with 0 Axes>"
      ]
     },
     "metadata": {},
     "output_type": "display_data"
    },
    {
     "data": {
      "text/plain": [
       "<Figure size 3000x1000 with 0 Axes>"
      ]
     },
     "metadata": {},
     "output_type": "display_data"
    },
    {
     "data": {
      "text/plain": [
       "<Figure size 3000x1000 with 0 Axes>"
      ]
     },
     "metadata": {},
     "output_type": "display_data"
    },
    {
     "data": {
      "text/plain": [
       "<Figure size 3000x1000 with 0 Axes>"
      ]
     },
     "metadata": {},
     "output_type": "display_data"
    },
    {
     "data": {
      "text/plain": [
       "<Figure size 3000x1000 with 0 Axes>"
      ]
     },
     "metadata": {},
     "output_type": "display_data"
    },
    {
     "data": {
      "text/plain": [
       "<Figure size 3000x1000 with 0 Axes>"
      ]
     },
     "metadata": {},
     "output_type": "display_data"
    },
    {
     "data": {
      "text/plain": [
       "<Figure size 3000x1000 with 0 Axes>"
      ]
     },
     "metadata": {},
     "output_type": "display_data"
    },
    {
     "data": {
      "text/plain": [
       "<Figure size 3000x1000 with 0 Axes>"
      ]
     },
     "metadata": {},
     "output_type": "display_data"
    },
    {
     "data": {
      "text/plain": [
       "<Figure size 3000x1000 with 0 Axes>"
      ]
     },
     "metadata": {},
     "output_type": "display_data"
    },
    {
     "data": {
      "text/plain": [
       "<Figure size 3000x1000 with 0 Axes>"
      ]
     },
     "metadata": {},
     "output_type": "display_data"
    },
    {
     "data": {
      "text/plain": [
       "<Figure size 3000x1000 with 0 Axes>"
      ]
     },
     "metadata": {},
     "output_type": "display_data"
    },
    {
     "data": {
      "text/plain": [
       "<Figure size 3000x1000 with 0 Axes>"
      ]
     },
     "metadata": {},
     "output_type": "display_data"
    },
    {
     "data": {
      "text/plain": [
       "<Figure size 3000x1000 with 0 Axes>"
      ]
     },
     "metadata": {},
     "output_type": "display_data"
    },
    {
     "data": {
      "text/plain": [
       "<Figure size 3000x1000 with 0 Axes>"
      ]
     },
     "metadata": {},
     "output_type": "display_data"
    },
    {
     "data": {
      "text/plain": [
       "<Figure size 3000x1000 with 0 Axes>"
      ]
     },
     "metadata": {},
     "output_type": "display_data"
    },
    {
     "data": {
      "text/plain": [
       "<Figure size 3000x1000 with 0 Axes>"
      ]
     },
     "metadata": {},
     "output_type": "display_data"
    },
    {
     "data": {
      "text/plain": [
       "<Figure size 3000x1000 with 0 Axes>"
      ]
     },
     "metadata": {},
     "output_type": "display_data"
    },
    {
     "data": {
      "text/plain": [
       "<Figure size 3000x1000 with 0 Axes>"
      ]
     },
     "metadata": {},
     "output_type": "display_data"
    },
    {
     "data": {
      "text/plain": [
       "<Figure size 3000x1000 with 0 Axes>"
      ]
     },
     "metadata": {},
     "output_type": "display_data"
    },
    {
     "data": {
      "text/plain": [
       "<Figure size 3000x1000 with 0 Axes>"
      ]
     },
     "metadata": {},
     "output_type": "display_data"
    },
    {
     "data": {
      "text/plain": [
       "<Figure size 3000x1000 with 0 Axes>"
      ]
     },
     "metadata": {},
     "output_type": "display_data"
    },
    {
     "data": {
      "text/plain": [
       "<Figure size 3000x1000 with 0 Axes>"
      ]
     },
     "metadata": {},
     "output_type": "display_data"
    },
    {
     "data": {
      "text/plain": [
       "<Figure size 3000x1000 with 0 Axes>"
      ]
     },
     "metadata": {},
     "output_type": "display_data"
    },
    {
     "data": {
      "text/plain": [
       "<Figure size 3000x1000 with 0 Axes>"
      ]
     },
     "metadata": {},
     "output_type": "display_data"
    },
    {
     "data": {
      "text/plain": [
       "<Figure size 3000x1000 with 0 Axes>"
      ]
     },
     "metadata": {},
     "output_type": "display_data"
    },
    {
     "data": {
      "text/plain": [
       "<Figure size 3000x1000 with 0 Axes>"
      ]
     },
     "metadata": {},
     "output_type": "display_data"
    },
    {
     "data": {
      "text/plain": [
       "<Figure size 3000x1000 with 0 Axes>"
      ]
     },
     "metadata": {},
     "output_type": "display_data"
    },
    {
     "data": {
      "text/plain": [
       "<Figure size 3000x1000 with 0 Axes>"
      ]
     },
     "metadata": {},
     "output_type": "display_data"
    },
    {
     "data": {
      "text/plain": [
       "<Figure size 3000x1000 with 0 Axes>"
      ]
     },
     "metadata": {},
     "output_type": "display_data"
    },
    {
     "data": {
      "text/plain": [
       "<Figure size 3000x1000 with 0 Axes>"
      ]
     },
     "metadata": {},
     "output_type": "display_data"
    },
    {
     "data": {
      "text/plain": [
       "<Figure size 3000x1000 with 0 Axes>"
      ]
     },
     "metadata": {},
     "output_type": "display_data"
    },
    {
     "data": {
      "text/plain": [
       "<Figure size 3000x1000 with 0 Axes>"
      ]
     },
     "metadata": {},
     "output_type": "display_data"
    },
    {
     "data": {
      "text/plain": [
       "<Figure size 3000x1000 with 0 Axes>"
      ]
     },
     "metadata": {},
     "output_type": "display_data"
    },
    {
     "data": {
      "text/plain": [
       "<Figure size 3000x1000 with 0 Axes>"
      ]
     },
     "metadata": {},
     "output_type": "display_data"
    },
    {
     "data": {
      "text/plain": [
       "<Figure size 3000x1000 with 0 Axes>"
      ]
     },
     "metadata": {},
     "output_type": "display_data"
    },
    {
     "data": {
      "text/plain": [
       "<Figure size 3000x1000 with 0 Axes>"
      ]
     },
     "metadata": {},
     "output_type": "display_data"
    },
    {
     "data": {
      "text/plain": [
       "<Figure size 3000x1000 with 0 Axes>"
      ]
     },
     "metadata": {},
     "output_type": "display_data"
    },
    {
     "data": {
      "text/plain": [
       "<Figure size 3000x1000 with 0 Axes>"
      ]
     },
     "metadata": {},
     "output_type": "display_data"
    },
    {
     "data": {
      "text/plain": [
       "<Figure size 3000x1000 with 0 Axes>"
      ]
     },
     "metadata": {},
     "output_type": "display_data"
    },
    {
     "data": {
      "text/plain": [
       "<Figure size 3000x1000 with 0 Axes>"
      ]
     },
     "metadata": {},
     "output_type": "display_data"
    },
    {
     "data": {
      "text/plain": [
       "<Figure size 3000x1000 with 0 Axes>"
      ]
     },
     "metadata": {},
     "output_type": "display_data"
    },
    {
     "data": {
      "text/plain": [
       "<Figure size 3000x1000 with 0 Axes>"
      ]
     },
     "metadata": {},
     "output_type": "display_data"
    },
    {
     "data": {
      "text/plain": [
       "<Figure size 3000x1000 with 0 Axes>"
      ]
     },
     "metadata": {},
     "output_type": "display_data"
    },
    {
     "data": {
      "text/plain": [
       "<Figure size 3000x1000 with 0 Axes>"
      ]
     },
     "metadata": {},
     "output_type": "display_data"
    },
    {
     "data": {
      "text/plain": [
       "<Figure size 3000x1000 with 0 Axes>"
      ]
     },
     "metadata": {},
     "output_type": "display_data"
    },
    {
     "data": {
      "text/plain": [
       "<Figure size 3000x1000 with 0 Axes>"
      ]
     },
     "metadata": {},
     "output_type": "display_data"
    },
    {
     "data": {
      "text/plain": [
       "<Figure size 3000x1000 with 0 Axes>"
      ]
     },
     "metadata": {},
     "output_type": "display_data"
    },
    {
     "data": {
      "text/plain": [
       "<Figure size 3000x1000 with 0 Axes>"
      ]
     },
     "metadata": {},
     "output_type": "display_data"
    },
    {
     "data": {
      "text/plain": [
       "<Figure size 3000x1000 with 0 Axes>"
      ]
     },
     "metadata": {},
     "output_type": "display_data"
    },
    {
     "data": {
      "text/plain": [
       "<Figure size 3000x1000 with 0 Axes>"
      ]
     },
     "metadata": {},
     "output_type": "display_data"
    },
    {
     "data": {
      "text/plain": [
       "<Figure size 3000x1000 with 0 Axes>"
      ]
     },
     "metadata": {},
     "output_type": "display_data"
    },
    {
     "data": {
      "text/plain": [
       "<Figure size 3000x1000 with 0 Axes>"
      ]
     },
     "metadata": {},
     "output_type": "display_data"
    },
    {
     "data": {
      "text/plain": [
       "<Figure size 3000x1000 with 0 Axes>"
      ]
     },
     "metadata": {},
     "output_type": "display_data"
    },
    {
     "data": {
      "text/plain": [
       "<Figure size 3000x1000 with 0 Axes>"
      ]
     },
     "metadata": {},
     "output_type": "display_data"
    },
    {
     "data": {
      "text/plain": [
       "<Figure size 3000x1000 with 0 Axes>"
      ]
     },
     "metadata": {},
     "output_type": "display_data"
    },
    {
     "data": {
      "text/plain": [
       "<Figure size 3000x1000 with 0 Axes>"
      ]
     },
     "metadata": {},
     "output_type": "display_data"
    },
    {
     "data": {
      "text/plain": [
       "<Figure size 3000x1000 with 0 Axes>"
      ]
     },
     "metadata": {},
     "output_type": "display_data"
    },
    {
     "data": {
      "text/plain": [
       "<Figure size 3000x1000 with 0 Axes>"
      ]
     },
     "metadata": {},
     "output_type": "display_data"
    },
    {
     "data": {
      "text/plain": [
       "<Figure size 3000x1000 with 0 Axes>"
      ]
     },
     "metadata": {},
     "output_type": "display_data"
    },
    {
     "data": {
      "text/plain": [
       "<Figure size 3000x1000 with 0 Axes>"
      ]
     },
     "metadata": {},
     "output_type": "display_data"
    },
    {
     "data": {
      "text/plain": [
       "<Figure size 3000x1000 with 0 Axes>"
      ]
     },
     "metadata": {},
     "output_type": "display_data"
    },
    {
     "data": {
      "text/plain": [
       "<Figure size 3000x1000 with 0 Axes>"
      ]
     },
     "metadata": {},
     "output_type": "display_data"
    },
    {
     "data": {
      "text/plain": [
       "<Figure size 3000x1000 with 0 Axes>"
      ]
     },
     "metadata": {},
     "output_type": "display_data"
    },
    {
     "data": {
      "text/plain": [
       "<Figure size 3000x1000 with 0 Axes>"
      ]
     },
     "metadata": {},
     "output_type": "display_data"
    },
    {
     "data": {
      "text/plain": [
       "<Figure size 3000x1000 with 0 Axes>"
      ]
     },
     "metadata": {},
     "output_type": "display_data"
    },
    {
     "data": {
      "text/plain": [
       "<Figure size 3000x1000 with 0 Axes>"
      ]
     },
     "metadata": {},
     "output_type": "display_data"
    },
    {
     "data": {
      "text/plain": [
       "<Figure size 3000x1000 with 0 Axes>"
      ]
     },
     "metadata": {},
     "output_type": "display_data"
    },
    {
     "data": {
      "text/plain": [
       "<Figure size 3000x1000 with 0 Axes>"
      ]
     },
     "metadata": {},
     "output_type": "display_data"
    },
    {
     "data": {
      "text/plain": [
       "<Figure size 3000x1000 with 0 Axes>"
      ]
     },
     "metadata": {},
     "output_type": "display_data"
    },
    {
     "data": {
      "text/plain": [
       "<Figure size 3000x1000 with 0 Axes>"
      ]
     },
     "metadata": {},
     "output_type": "display_data"
    },
    {
     "data": {
      "text/plain": [
       "<Figure size 3000x1000 with 0 Axes>"
      ]
     },
     "metadata": {},
     "output_type": "display_data"
    },
    {
     "data": {
      "text/plain": [
       "<Figure size 3000x1000 with 0 Axes>"
      ]
     },
     "metadata": {},
     "output_type": "display_data"
    },
    {
     "data": {
      "text/plain": [
       "<Figure size 3000x1000 with 0 Axes>"
      ]
     },
     "metadata": {},
     "output_type": "display_data"
    },
    {
     "data": {
      "text/plain": [
       "<Figure size 3000x1000 with 0 Axes>"
      ]
     },
     "metadata": {},
     "output_type": "display_data"
    },
    {
     "data": {
      "text/plain": [
       "<Figure size 3000x1000 with 0 Axes>"
      ]
     },
     "metadata": {},
     "output_type": "display_data"
    },
    {
     "data": {
      "text/plain": [
       "<Figure size 3000x1000 with 0 Axes>"
      ]
     },
     "metadata": {},
     "output_type": "display_data"
    },
    {
     "data": {
      "text/plain": [
       "<Figure size 3000x1000 with 0 Axes>"
      ]
     },
     "metadata": {},
     "output_type": "display_data"
    },
    {
     "data": {
      "text/plain": [
       "<Figure size 3000x1000 with 0 Axes>"
      ]
     },
     "metadata": {},
     "output_type": "display_data"
    },
    {
     "data": {
      "text/plain": [
       "<Figure size 3000x1000 with 0 Axes>"
      ]
     },
     "metadata": {},
     "output_type": "display_data"
    },
    {
     "data": {
      "text/plain": [
       "<Figure size 3000x1000 with 0 Axes>"
      ]
     },
     "metadata": {},
     "output_type": "display_data"
    },
    {
     "data": {
      "text/plain": [
       "<Figure size 3000x1000 with 0 Axes>"
      ]
     },
     "metadata": {},
     "output_type": "display_data"
    },
    {
     "data": {
      "text/plain": [
       "<Figure size 3000x1000 with 0 Axes>"
      ]
     },
     "metadata": {},
     "output_type": "display_data"
    },
    {
     "data": {
      "text/plain": [
       "<Figure size 3000x1000 with 0 Axes>"
      ]
     },
     "metadata": {},
     "output_type": "display_data"
    },
    {
     "data": {
      "text/plain": [
       "<Figure size 3000x1000 with 0 Axes>"
      ]
     },
     "metadata": {},
     "output_type": "display_data"
    },
    {
     "data": {
      "text/plain": [
       "<Figure size 3000x1000 with 0 Axes>"
      ]
     },
     "metadata": {},
     "output_type": "display_data"
    },
    {
     "data": {
      "text/plain": [
       "<Figure size 3000x1000 with 0 Axes>"
      ]
     },
     "metadata": {},
     "output_type": "display_data"
    },
    {
     "data": {
      "text/plain": [
       "<Figure size 3000x1000 with 0 Axes>"
      ]
     },
     "metadata": {},
     "output_type": "display_data"
    },
    {
     "data": {
      "text/plain": [
       "<Figure size 3000x1000 with 0 Axes>"
      ]
     },
     "metadata": {},
     "output_type": "display_data"
    },
    {
     "data": {
      "text/plain": [
       "<Figure size 3000x1000 with 0 Axes>"
      ]
     },
     "metadata": {},
     "output_type": "display_data"
    },
    {
     "data": {
      "text/plain": [
       "<Figure size 3000x1000 with 0 Axes>"
      ]
     },
     "metadata": {},
     "output_type": "display_data"
    },
    {
     "data": {
      "text/plain": [
       "<Figure size 3000x1000 with 0 Axes>"
      ]
     },
     "metadata": {},
     "output_type": "display_data"
    },
    {
     "data": {
      "text/plain": [
       "<Figure size 3000x1000 with 0 Axes>"
      ]
     },
     "metadata": {},
     "output_type": "display_data"
    },
    {
     "data": {
      "text/plain": [
       "<Figure size 3000x1000 with 0 Axes>"
      ]
     },
     "metadata": {},
     "output_type": "display_data"
    },
    {
     "data": {
      "text/plain": [
       "<Figure size 3000x1000 with 0 Axes>"
      ]
     },
     "metadata": {},
     "output_type": "display_data"
    },
    {
     "data": {
      "text/plain": [
       "<Figure size 3000x1000 with 0 Axes>"
      ]
     },
     "metadata": {},
     "output_type": "display_data"
    },
    {
     "data": {
      "text/plain": [
       "<Figure size 3000x1000 with 0 Axes>"
      ]
     },
     "metadata": {},
     "output_type": "display_data"
    },
    {
     "data": {
      "text/plain": [
       "<Figure size 3000x1000 with 0 Axes>"
      ]
     },
     "metadata": {},
     "output_type": "display_data"
    },
    {
     "data": {
      "text/plain": [
       "<Figure size 3000x1000 with 0 Axes>"
      ]
     },
     "metadata": {},
     "output_type": "display_data"
    },
    {
     "data": {
      "text/plain": [
       "<Figure size 3000x1000 with 0 Axes>"
      ]
     },
     "metadata": {},
     "output_type": "display_data"
    },
    {
     "data": {
      "text/plain": [
       "<Figure size 3000x1000 with 0 Axes>"
      ]
     },
     "metadata": {},
     "output_type": "display_data"
    },
    {
     "data": {
      "text/plain": [
       "<Figure size 3000x1000 with 0 Axes>"
      ]
     },
     "metadata": {},
     "output_type": "display_data"
    },
    {
     "data": {
      "text/plain": [
       "<Figure size 3000x1000 with 0 Axes>"
      ]
     },
     "metadata": {},
     "output_type": "display_data"
    },
    {
     "data": {
      "text/plain": [
       "<Figure size 3000x1000 with 0 Axes>"
      ]
     },
     "metadata": {},
     "output_type": "display_data"
    },
    {
     "data": {
      "text/plain": [
       "<Figure size 3000x1000 with 0 Axes>"
      ]
     },
     "metadata": {},
     "output_type": "display_data"
    },
    {
     "data": {
      "text/plain": [
       "<Figure size 3000x1000 with 0 Axes>"
      ]
     },
     "metadata": {},
     "output_type": "display_data"
    }
   ],
   "source": [
    "suites = df['suite'].unique()\n",
    "metric_column =['IPC', 'plp', 'remote', 'local', 'GPU throughput', 'L1 miss', 'L1 pending hit', 'L1 reservation fail', 'L1 data port util', 'L2 miss', 'L2 pending hit', 'L2 reservation fail', 'L2 data port util', 'mflatency', 'icnt2mem', 'icnt2sh', 'p latency', 'n latency', 'flit rate']\n",
    "clean_df = df.dropna(subset=metric_column, how='all')\n",
    "for suite in suites:\n",
    "    suite_df = clean_df[clean_df['suite'] == suite]\n",
    "    benchmarks = suite_df['benchmark'].unique()\n",
    "    for benchmark in benchmarks:\n",
    "        bench_df = suite_df[suite_df['benchmark'] == benchmark]\n",
    "        for param in metric_column:\n",
    "            param_means = []\n",
    "            for chiplet in [4, 8, 16]:\n",
    "               for bw in ['160GB/s', '300GB/s', '600GB/s', '900GB/s', '1200GB/s', '1400GB/s', '1800GB/s', '2048GB/s']:\n",
    "                   if param == 'flit rate':\n",
    "                       if bw == '160GB/s':\n",
    "                           coefficient = 40 * 1 # 40B flit size - 1 GHz NoC frequency\n",
    "                       elif bw == '300GB/s':\n",
    "                           coefficient = 40 * 1.875\n",
    "                       elif bw == '600GB/s':\n",
    "                           coefficient = 40 * 3.75\n",
    "                       elif bw == '900GB/s':\n",
    "                           coefficient = 40 * 5.625\n",
    "                       elif bw == '1200GB/s':\n",
    "                           coefficient = 40 * 7.5\n",
    "                       elif bw == '1400GB/s':\n",
    "                           coefficient = 40 * 9.375\n",
    "                       elif bw == '1800GB/s':\n",
    "                           coefficient = 40 * 11.25\n",
    "                       elif bw == '2048GB/s':\n",
    "                           coefficient = 40 * 12.8\n",
    "                   elif param == 'GPU throughput':\n",
    "                       coefficient = 1.132\n",
    "                   elif param == 'mflatency' or param == 'icnt2mem' or param == 'icnt2sh':\n",
    "                       coefficient = 0.88 / 1000\n",
    "                   elif param == 'p latency' or param == 'n latency':\n",
    "                       if bw == '160GB/s':\n",
    "                           coefficient = 1 / 1\n",
    "                       elif bw == '300GB/s':\n",
    "                           coefficient = 1 / 1.875  # 1.875 is NoC frequency in GHz. multiply the frequency by 1000 to measure it in Microsecond.\n",
    "                       elif bw == '600GB/s':\n",
    "                           coefficient = 1 / 3.75\n",
    "                       elif bw == '900GB/s':\n",
    "                           coefficient = 1 / 5.625\n",
    "                       elif bw == '1200GB/s':\n",
    "                           coefficient = 1 / 7.5\n",
    "                       elif bw == '1400GB/s':\n",
    "                           coefficient = 1 / 9.375\n",
    "                       elif bw == '1800GB/s':\n",
    "                           coefficient = 1 / 11.25\n",
    "                       elif bw == '2048GB/s':\n",
    "                           coefficient = 1 / 12.8\n",
    "                   mask = (df['chiplet'] == chiplet) & (df['bandwidth'] == bw)\n",
    "                   if len(df[mask]) > 0:\n",
    "                       param_mean = df[mask][param].iloc[0] * coefficient\n",
    "                       param_means.append({'chiplet': chiplet, 'bandwidth': bw, param: param_mean})\n",
    "            \n",
    "            # Create DataFrame\n",
    "            param_avg = pd.DataFrame(param_means)\n",
    "        \n",
    "            plt.figure(figsize=(30, 10))\n",
    "            figure, ax = plt.subplots(2, 1, figsize=(15, 12))\n",
    "        \n",
    "            ylabel = \"\"\n",
    "            if param == \"plp\":\n",
    "                ylabel = \"LLC effective BW\"\n",
    "            elif param == \"remote\":\n",
    "                ylabel = \"remote request\"\n",
    "            elif param == \"local\":\n",
    "                ylabel = \"local request\"\n",
    "            elif param == \"GPU throughput\":\n",
    "                ylabel = \"GPU throughput (GB/s)\"\n",
    "            elif param == \"L1 miss\":\n",
    "                ylabel = \"L1 miss rate\"\n",
    "            elif param == \"L2 miss\":\n",
    "                ylabel = \"L2 miss\"\n",
    "            elif param == \"mflatency\":\n",
    "                ylabel = \"remote access RTT (\\u03bcs)\"\n",
    "            elif param == \"icnt2mem\":\n",
    "                ylabel = \"average remote requst latency (\\u03bcs)\"\n",
    "            elif param == \"icnt2sh\":\n",
    "                ylabel = \"average remote reply latency\"\n",
    "            elif param == \"p latency\":\n",
    "                ylabel = \"packet latency (\\u03bcs)\"\n",
    "            elif param == \"n latency\":\n",
    "                ylabel = \"network latency (\\u03bcs)\"\n",
    "            elif param == \"flit rate\":\n",
    "                ylabel = \"Network throughput (GB/s)\"\n",
    "            for i, (bw, color) in enumerate(zip(['160GB/s', '300GB/s', '600GB/s', '900GB/s', '1200GB/s', '1400GB/s', '1800GB/s', '2048GB/s'], blues)):\n",
    "               values = param_avg[param_avg['bandwidth'] == bw][param]\n",
    "               position = x + (i - 4 + 0.5) * width\n",
    "               ax[0].bar(position, values, width, label=bw, color=color)\n",
    "        \n",
    "            ax[0].set_ylabel('absolute ' + ylabel, fontsize=20)\n",
    "            ax[0].set_xticks(x, ['4chiplet', '8chiplet', '16chiplet'], fontsize=20)\n",
    "            #plt.show()\n",
    "        \n",
    "            # calculate relative values\n",
    "            baseline = param_avg[(param_avg['chiplet'] == 4) & (avg_ipc['bandwidth'] == '160GB/s')][param].iloc[0]\n",
    "            param_avg[param] = param_avg[param] / baseline\n",
    "            \n",
    "            x = np.arange(3)  # for 4, 8, 16 chiplets\n",
    "            width = 0.8 / len(['160GB/s', '300GB/s', '600GB/s', '900GB/s', '1200GB/s', '1400GB/s', '1800GB/s', '2048GB/s'])\n",
    "            blues = plt.cm.Blues(np.linspace(0.3, 1, 8))\n",
    "            \n",
    "            for i, (bw, color) in enumerate(zip(['160GB/s', '300GB/s', '600GB/s', '900GB/s', '1200GB/s', '1400GB/s', '1800GB/s', '2048GB/s'], blues)):\n",
    "               values = param_avg[param_avg['bandwidth'] == bw][param]\n",
    "               position = x + (i - 4 + 0.5) * width\n",
    "               ax[1].bar(position, values, width, label=bw, color=color)\n",
    "        \n",
    "            if \"(\" in ylabel.split(\" \")[-1] and \")\" in ylabel.split(\" \")[-1]:\n",
    "                ylabel = \" \".join(ylabel.split(\" \")[:-1])\n",
    "            ax[1].set_ylabel('Relative ' + ylabel, fontsize=20)\n",
    "            ax[1].set_xticks(x, ['4chiplet', '8chiplet', '16chiplet'], fontsize=20)\n",
    "            ax[1].axhline(y=1, color='red', linestyle='--', alpha=0.3)\n",
    "        \n",
    "            plt.legend(loc='upper left', bbox_to_anchor=(0.02, 0.98))\n",
    "            plt.tight_layout()\n",
    "            if not os.path.exists(\"results/benchmarks/\" + suite + \"/\" + benchmark):\n",
    "                os.makedirs(\"results/benchmarks/\" + suite + \"/\" + benchmark)\n",
    "            plt.savefig(\"results/benchmarks/\" + suite + \"/\" + benchmark + \"/\" + ylabel + \".png\")\n",
    "            plt.close()"
   ]
  },
  {
   "cell_type": "code",
   "execution_count": null,
   "id": "b3789e53-bfda-4bd5-8349-fe76d73ce728",
   "metadata": {},
   "outputs": [],
   "source": []
  }
 ],
 "metadata": {
  "kernelspec": {
   "display_name": "Python 3 (ipykernel)",
   "language": "python",
   "name": "python3"
  },
  "language_info": {
   "codemirror_mode": {
    "name": "ipython",
    "version": 3
   },
   "file_extension": ".py",
   "mimetype": "text/x-python",
   "name": "python",
   "nbconvert_exporter": "python",
   "pygments_lexer": "ipython3",
   "version": "3.12.2"
  }
 },
 "nbformat": 4,
 "nbformat_minor": 5
}
